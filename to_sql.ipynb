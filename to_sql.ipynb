{
 "cells": [
  {
   "cell_type": "code",
   "execution_count": 1,
   "id": "phantom-valley",
   "metadata": {},
   "outputs": [],
   "source": [
    "import time\n",
    "import pymssql\n",
    "import pandas as pd\n",
    "import urllib\n",
    "from sqlalchemy import create_engine, Column, Integer, String\n",
    "from sqlalchemy.orm import sessionmaker\n",
    "from sqlalchemy.ext.declarative import declarative_base\n",
    "from pangres import upsert"
   ]
  },
  {
   "cell_type": "code",
   "execution_count": 2,
   "id": "middle-budget",
   "metadata": {},
   "outputs": [],
   "source": [
    "# driver = 'SQL Server Native Client 10.0'\n",
    "# server = 'xxxxx'　 # データベースの詳細設定のサーバー名\n",
    "# database = 'xxxxx' # データベース名\n",
    "# username = 'xxxxx' # データベースの詳細設定のサーバー管理者ログイン\n",
    "# password = 'xxxxx' # データベースの詳細設定の更新"
   ]
  },
  {
   "cell_type": "code",
   "execution_count": 4,
   "id": "reverse-anaheim",
   "metadata": {},
   "outputs": [],
   "source": [
    "engine = create_engine(f\"mssql+pymssql://{username}:{password}@{server}/{database}\")"
   ]
  },
  {
   "cell_type": "code",
   "execution_count": 5,
   "id": "incomplete-albany",
   "metadata": {},
   "outputs": [
    {
     "name": "stdout",
     "output_type": "stream",
     "text": [
      "Microsoft SQL Azure (RTM) - 12.0.2000.8 \n",
      "\tSep 18 2021 19:01:34 \n",
      "\tCopyright (C) 2019 Microsoft Corporation\n",
      "\n"
     ]
    }
   ],
   "source": [
    "with engine.connect() as conn:\n",
    "    rs = conn.execute('SELECT @@VERSION as version')\n",
    "    for row in rs:\n",
    "        print(row['version'])"
   ]
  },
  {
   "cell_type": "markdown",
   "id": "purple-shock",
   "metadata": {},
   "source": [
    "## テーブルの定義"
   ]
  },
  {
   "cell_type": "code",
   "execution_count": 6,
   "id": "bronze-messaging",
   "metadata": {},
   "outputs": [],
   "source": [
    "Base = declarative_base()"
   ]
  },
  {
   "cell_type": "code",
   "execution_count": 7,
   "id": "unable-fruit",
   "metadata": {},
   "outputs": [],
   "source": [
    "class Person(Base):\n",
    "    __tablename__ = 'persons'\n",
    "    id = Column(Integer, primary_key=True, autoincrement=True)\n",
    "    name = Column(String(14))\n",
    "    job = Column(String(14))\n",
    "    address = Column(String(50))"
   ]
  },
  {
   "cell_type": "markdown",
   "id": "measured-israel",
   "metadata": {},
   "source": [
    "## 登録する DataFrame型のデータを作成"
   ]
  },
  {
   "cell_type": "code",
   "execution_count": 22,
   "id": "pharmaceutical-discovery",
   "metadata": {},
   "outputs": [
    {
     "data": {
      "text/html": [
       "<div>\n",
       "<style scoped>\n",
       "    .dataframe tbody tr th:only-of-type {\n",
       "        vertical-align: middle;\n",
       "    }\n",
       "\n",
       "    .dataframe tbody tr th {\n",
       "        vertical-align: top;\n",
       "    }\n",
       "\n",
       "    .dataframe thead th {\n",
       "        text-align: right;\n",
       "    }\n",
       "</style>\n",
       "<table border=\"1\" class=\"dataframe\">\n",
       "  <thead>\n",
       "    <tr style=\"text-align: right;\">\n",
       "      <th></th>\n",
       "      <th>id</th>\n",
       "      <th>name</th>\n",
       "      <th>job</th>\n",
       "      <th>address</th>\n",
       "    </tr>\n",
       "  </thead>\n",
       "  <tbody>\n",
       "    <tr>\n",
       "      <th>0</th>\n",
       "      <td>1</td>\n",
       "      <td>John1</td>\n",
       "      <td>Engineer</td>\n",
       "      <td>America</td>\n",
       "    </tr>\n",
       "    <tr>\n",
       "      <th>1</th>\n",
       "      <td>2</td>\n",
       "      <td>John2</td>\n",
       "      <td>Engineer</td>\n",
       "      <td>America</td>\n",
       "    </tr>\n",
       "    <tr>\n",
       "      <th>2</th>\n",
       "      <td>3</td>\n",
       "      <td>John3</td>\n",
       "      <td>Engineer</td>\n",
       "      <td>America</td>\n",
       "    </tr>\n",
       "    <tr>\n",
       "      <th>3</th>\n",
       "      <td>4</td>\n",
       "      <td>John4</td>\n",
       "      <td>Engineer</td>\n",
       "      <td>America</td>\n",
       "    </tr>\n",
       "    <tr>\n",
       "      <th>4</th>\n",
       "      <td>5</td>\n",
       "      <td>John5</td>\n",
       "      <td>Engineer</td>\n",
       "      <td>America</td>\n",
       "    </tr>\n",
       "  </tbody>\n",
       "</table>\n",
       "</div>"
      ],
      "text/plain": [
       "   id   name       job  address\n",
       "0   1  John1  Engineer  America\n",
       "1   2  John2  Engineer  America\n",
       "2   3  John3  Engineer  America\n",
       "3   4  John4  Engineer  America\n",
       "4   5  John5  Engineer  America"
      ]
     },
     "execution_count": 22,
     "metadata": {},
     "output_type": "execute_result"
    }
   ],
   "source": [
    "df = pd.DataFrame(\n",
    "    [\n",
    "        [1, \"John1\", \"Engineer\", \"America\"],\n",
    "        [2, \"John2\", \"Engineer\", \"America\"],\n",
    "        [3, \"John3\", \"Engineer\", \"America\"],\n",
    "        [4, \"John4\", \"Engineer\", \"America\"],\n",
    "        [5, \"John5\", \"Engineer\", \"America\"],\n",
    "        [6, \"John6\", \"Engineer\", \"America\"],\n",
    "        [7, \"John7\", \"Engineer\", \"America\"],\n",
    "        [8, \"John8\", \"Engineer\", \"America\"],\n",
    "        [9, \"John9\", \"Engineer\", \"America\"],\n",
    "        [10, \"John10\", \"Engineer\", \"America\"],\n",
    "        [11, \"John11\", \"Engineer\", \"America\"],\n",
    "        [12, \"John12\", \"Engineer\", \"America\"],\n",
    "        [13, \"John13\", \"Engineer\", \"America\"],\n",
    "        [14, \"John14\", \"Engineer\", \"America\"],\n",
    "        [15, \"John15\", \"Engineer\", \"America\"],\n",
    "        [16, \"John16\", \"Engineer\", \"America\"],\n",
    "        [17, \"John17\", \"Engineer\", \"America\"],\n",
    "        [18, \"John18\", \"Engineer\", \"America\"],\n",
    "        [19, \"John19\", \"Engineer\", \"America\"],\n",
    "        [20, \"John20\", \"Engineer\", \"America\"],\n",
    "        [21, \"John21\", \"Engineer\", \"America\"],\n",
    "        [22, \"John22\", \"Engineer\", \"America\"],\n",
    "        [23, \"John23\", \"Engineer\", \"America\"],\n",
    "        [24, \"John24\", \"Engineer\", \"America\"],\n",
    "        [25, \"John25\", \"Engineer\", \"America\"],\n",
    "        [26, \"John26\", \"Engineer\", \"America\"],\n",
    "        [27, \"John27\", \"Engineer\", \"America\"],\n",
    "        [28, \"John28\", \"Engineer\", \"America\"],\n",
    "        [29, \"John29\", \"Engineer\", \"America\"],\n",
    "        [30, \"John30\", \"Engineer\", \"America\"],\n",
    "    ],\n",
    "    columns = [\"id\", \"name\", \"job\", \"address\"]\n",
    ")\n",
    "\n",
    "df.head()"
   ]
  },
  {
   "cell_type": "markdown",
   "id": "controlling-timothy",
   "metadata": {},
   "source": [
    "## for文で1つずつ登録"
   ]
  },
  {
   "cell_type": "code",
   "execution_count": 9,
   "id": "blank-thesaurus",
   "metadata": {},
   "outputs": [],
   "source": [
    "# テーブルの作成\n",
    "Base.metadata.create_all(engine)"
   ]
  },
  {
   "cell_type": "code",
   "execution_count": 10,
   "id": "industrial-match",
   "metadata": {},
   "outputs": [
    {
     "name": "stdout",
     "output_type": "stream",
     "text": [
      "elapsed_time:11.3[sec]\n"
     ]
    }
   ],
   "source": [
    "start = time.time()\n",
    "\n",
    "Session = sessionmaker(bind=engine)\n",
    "session = Session()\n",
    "\n",
    "for i in range(len(df)):\n",
    "    \n",
    "    p = Person(\n",
    "        name = df.iloc[i:i+1][\"name\"].values[0],\n",
    "        job = df.iloc[i:i+1][\"job\"].values[0],\n",
    "        address = df.iloc[i:i+1][\"address\"].values[0]\n",
    "    )\n",
    "    \n",
    "    session.add(p)\n",
    "    session.commit()\n",
    "\n",
    "session.flush()\n",
    "\n",
    "for_add_time = time.time() - start\n",
    "print(f\"elapsed_time:{round((for_add_time), 1)}[sec]\")"
   ]
  },
  {
   "cell_type": "code",
   "execution_count": 11,
   "id": "dynamic-archives",
   "metadata": {},
   "outputs": [],
   "source": [
    "# テーブルの削除\n",
    "Base.metadata.drop_all(engine)"
   ]
  },
  {
   "cell_type": "markdown",
   "id": "employed-marathon",
   "metadata": {},
   "source": [
    "## to_sql で登録"
   ]
  },
  {
   "cell_type": "code",
   "execution_count": 12,
   "id": "designing-iraqi",
   "metadata": {},
   "outputs": [],
   "source": [
    "# テーブルの作成\n",
    "Base.metadata.create_all(engine)"
   ]
  },
  {
   "cell_type": "code",
   "execution_count": 13,
   "id": "rough-savings",
   "metadata": {},
   "outputs": [
    {
     "name": "stdout",
     "output_type": "stream",
     "text": [
      "elapsed_time:2.9[sec]\n"
     ]
    }
   ],
   "source": [
    "start = time.time()\n",
    "\n",
    "df[[\"name\", \"job\", \"address\"]].to_sql('persons', engine, if_exists='append', index=False)\n",
    "\n",
    "to_sql_time = time.time() - start\n",
    "print(f\"elapsed_time:{round((to_sql_time), 1)}[sec]\")"
   ]
  },
  {
   "cell_type": "code",
   "execution_count": 14,
   "id": "italic-waters",
   "metadata": {},
   "outputs": [
    {
     "name": "stdout",
     "output_type": "stream",
     "text": [
      "for文で1行ずつ登録:11.3秒\n",
      "to_sql で登録:2.9秒\n"
     ]
    }
   ],
   "source": [
    "print(f\"for文で1行ずつ登録:{round(for_add_time, 1)}秒\")\n",
    "print(f\"to_sql で登録:{round(to_sql_time, 1)}秒\")"
   ]
  },
  {
   "cell_type": "markdown",
   "id": "056f7719-0192-4337-856f-4d0d0823096a",
   "metadata": {},
   "source": [
    "## for文で 1つずつ Update"
   ]
  },
  {
   "cell_type": "code",
   "execution_count": 15,
   "id": "bb8b1d15-d13d-4685-ab26-0472c9ad067d",
   "metadata": {},
   "outputs": [
    {
     "data": {
      "text/html": [
       "<div>\n",
       "<style scoped>\n",
       "    .dataframe tbody tr th:only-of-type {\n",
       "        vertical-align: middle;\n",
       "    }\n",
       "\n",
       "    .dataframe tbody tr th {\n",
       "        vertical-align: top;\n",
       "    }\n",
       "\n",
       "    .dataframe thead th {\n",
       "        text-align: right;\n",
       "    }\n",
       "</style>\n",
       "<table border=\"1\" class=\"dataframe\">\n",
       "  <thead>\n",
       "    <tr style=\"text-align: right;\">\n",
       "      <th></th>\n",
       "      <th>id</th>\n",
       "      <th>name</th>\n",
       "      <th>job</th>\n",
       "      <th>address</th>\n",
       "    </tr>\n",
       "  </thead>\n",
       "  <tbody>\n",
       "    <tr>\n",
       "      <th>0</th>\n",
       "      <td>1</td>\n",
       "      <td>update</td>\n",
       "      <td>update</td>\n",
       "      <td>update</td>\n",
       "    </tr>\n",
       "    <tr>\n",
       "      <th>1</th>\n",
       "      <td>2</td>\n",
       "      <td>update</td>\n",
       "      <td>update</td>\n",
       "      <td>update</td>\n",
       "    </tr>\n",
       "    <tr>\n",
       "      <th>2</th>\n",
       "      <td>3</td>\n",
       "      <td>update</td>\n",
       "      <td>update</td>\n",
       "      <td>update</td>\n",
       "    </tr>\n",
       "    <tr>\n",
       "      <th>3</th>\n",
       "      <td>4</td>\n",
       "      <td>update</td>\n",
       "      <td>update</td>\n",
       "      <td>update</td>\n",
       "    </tr>\n",
       "    <tr>\n",
       "      <th>4</th>\n",
       "      <td>5</td>\n",
       "      <td>update</td>\n",
       "      <td>update</td>\n",
       "      <td>update</td>\n",
       "    </tr>\n",
       "  </tbody>\n",
       "</table>\n",
       "</div>"
      ],
      "text/plain": [
       "   id    name     job address\n",
       "0   1  update  update  update\n",
       "1   2  update  update  update\n",
       "2   3  update  update  update\n",
       "3   4  update  update  update\n",
       "4   5  update  update  update"
      ]
     },
     "execution_count": 15,
     "metadata": {},
     "output_type": "execute_result"
    }
   ],
   "source": [
    "df_update = df.copy()\n",
    "\n",
    "df_update[\"name\"] = \"update\"\n",
    "df_update[\"job\"] = \"update\"\n",
    "df_update[\"address\"] = \"update\"\n",
    "\n",
    "df_update.head()"
   ]
  },
  {
   "cell_type": "code",
   "execution_count": 16,
   "id": "18f40d7f-4dd7-4dff-bf81-46e628186742",
   "metadata": {},
   "outputs": [
    {
     "name": "stdout",
     "output_type": "stream",
     "text": [
      "elapsed_time:13.2[sec]\n"
     ]
    }
   ],
   "source": [
    "start = time.time()\n",
    "\n",
    "Session = sessionmaker(bind=engine)\n",
    "session = Session()\n",
    "\n",
    "for i in range(len(df_update)):\n",
    "    \n",
    "    id_num = int(df_update.iloc[i:i+1].id.values[0])\n",
    "    mydata = session.query(Person).filter(Person.id == id_num).first()\n",
    "    \n",
    "    mydata.name = df_update.iloc[i:i+1][\"name\"].values[0]\n",
    "    mydata.job = df_update.iloc[i:i+1][\"job\"].values[0]\n",
    "    mydata.address = df_update.iloc[i:i+1][\"address\"].values[0]\n",
    "    \n",
    "    session.add(mydata)\n",
    "    session.commit()\n",
    "    \n",
    "session.flush()\n",
    "\n",
    "for_update_time = time.time() - start\n",
    "print(f\"elapsed_time:{round((for_update_time), 1)}[sec]\")"
   ]
  }
 ],
 "metadata": {
  "kernelspec": {
   "display_name": "Python 3 (ipykernel)",
   "language": "python",
   "name": "python3"
  },
  "language_info": {
   "codemirror_mode": {
    "name": "ipython",
    "version": 3
   },
   "file_extension": ".py",
   "mimetype": "text/x-python",
   "name": "python",
   "nbconvert_exporter": "python",
   "pygments_lexer": "ipython3",
   "version": "3.8.12"
  }
 },
 "nbformat": 4,
 "nbformat_minor": 5
}
