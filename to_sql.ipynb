{
 "cells": [
  {
   "cell_type": "code",
   "execution_count": 1,
   "id": "phantom-valley",
   "metadata": {},
   "outputs": [],
   "source": [
    "import time\n",
    "import pymssql\n",
    "import pandas as pd\n",
    "import urllib\n",
    "from sqlalchemy.engine import URL\n",
    "from sqlalchemy import create_engine, Column, Integer, String\n",
    "from sqlalchemy.orm import sessionmaker\n",
    "from sqlalchemy.ext.declarative import declarative_base"
   ]
  },
  {
   "cell_type": "code",
   "execution_count": 2,
   "id": "middle-budget",
   "metadata": {},
   "outputs": [],
   "source": [
    "driver = 'SQL Server Native Client 10.0'\n",
    "server = 'xxxxx' # 更新\n",
    "database = 'xxxxx' # 更新\n",
    "username = 'xxxxx' # 更新\n",
    "password = 'xxxxx' # 更新"
   ]
  },
  {
   "cell_type": "code",
   "execution_count": 3,
   "id": "reverse-anaheim",
   "metadata": {},
   "outputs": [],
   "source": [
    "engine = create_engine(f\"mssql+pymssql://{username}:{password}@{server}/{database}\")"
   ]
  },
  {
   "cell_type": "code",
   "execution_count": 4,
   "id": "incomplete-albany",
   "metadata": {},
   "outputs": [
    {
     "name": "stdout",
     "output_type": "stream",
     "text": [
      "Microsoft SQL Azure (RTM) - 12.0.2000.8 \n",
      "\tSep 18 2021 19:01:34 \n",
      "\tCopyright (C) 2019 Microsoft Corporation\n",
      "\n"
     ]
    }
   ],
   "source": [
    "with engine.connect() as conn:\n",
    "    rs = conn.execute('SELECT @@VERSION as version')\n",
    "    for row in rs:\n",
    "        print(row['version'])"
   ]
  },
  {
   "cell_type": "markdown",
   "id": "purple-shock",
   "metadata": {},
   "source": [
    "## テーブルの定義"
   ]
  },
  {
   "cell_type": "code",
   "execution_count": 5,
   "id": "bronze-messaging",
   "metadata": {},
   "outputs": [],
   "source": [
    "Base = declarative_base()"
   ]
  },
  {
   "cell_type": "code",
   "execution_count": 6,
   "id": "unable-fruit",
   "metadata": {},
   "outputs": [],
   "source": [
    "class Person(Base):\n",
    "    __tablename__ = 'persons'\n",
    "    id = Column(Integer, primary_key=True, autoincrement=True)\n",
    "    name = Column(String(14))\n",
    "    job = Column(String(14))\n",
    "    address = Column(String(50))"
   ]
  },
  {
   "cell_type": "markdown",
   "id": "measured-israel",
   "metadata": {},
   "source": [
    "## 登録する DataFrame型のデータを作成"
   ]
  },
  {
   "cell_type": "code",
   "execution_count": 8,
   "id": "pharmaceutical-discovery",
   "metadata": {},
   "outputs": [],
   "source": [
    "df = pd.DataFrame(\n",
    "    [\n",
    "        [\"John1\", \"Engineer\", \"America\"],\n",
    "        [\"John2\", \"Engineer\", \"America\"],\n",
    "        [\"John3\", \"Engineer\", \"America\"],\n",
    "        [\"John4\", \"Engineer\", \"America\"],\n",
    "        [\"John5\", \"Engineer\", \"America\"],\n",
    "        [\"John6\", \"Engineer\", \"America\"],\n",
    "        [\"John7\", \"Engineer\", \"America\"],\n",
    "        [\"John8\", \"Engineer\", \"America\"],\n",
    "        [\"John9\", \"Engineer\", \"America\"],\n",
    "        [\"John10\", \"Engineer\", \"America\"],\n",
    "        [\"John11\", \"Engineer\", \"America\"],\n",
    "        [\"John12\", \"Engineer\", \"America\"],\n",
    "        [\"John13\", \"Engineer\", \"America\"],\n",
    "        [\"John14\", \"Engineer\", \"America\"],\n",
    "        [\"John15\", \"Engineer\", \"America\"],\n",
    "        [\"John16\", \"Engineer\", \"America\"],\n",
    "        [\"John17\", \"Engineer\", \"America\"],\n",
    "        [\"John18\", \"Engineer\", \"America\"],\n",
    "        [\"John19\", \"Engineer\", \"America\"],\n",
    "        [\"John20\", \"Engineer\", \"America\"],\n",
    "        [\"John21\", \"Engineer\", \"America\"],\n",
    "        [\"John22\", \"Engineer\", \"America\"],\n",
    "        [\"John23\", \"Engineer\", \"America\"],\n",
    "        [\"John24\", \"Engineer\", \"America\"],\n",
    "        [\"John25\", \"Engineer\", \"America\"],\n",
    "        [\"John26\", \"Engineer\", \"America\"],\n",
    "        [\"John27\", \"Engineer\", \"America\"],\n",
    "        [\"John28\", \"Engineer\", \"America\"],\n",
    "        [\"John29\", \"Engineer\", \"America\"],\n",
    "        [\"John30\", \"Engineer\", \"America\"],\n",
    "    ],\n",
    "    columns = [\"name\", \"job\", \"address\"]\n",
    ")"
   ]
  },
  {
   "cell_type": "markdown",
   "id": "controlling-timothy",
   "metadata": {},
   "source": [
    "## for文で1つずつ実行"
   ]
  },
  {
   "cell_type": "code",
   "execution_count": null,
   "id": "blank-thesaurus",
   "metadata": {},
   "outputs": [],
   "source": [
    "# テーブルの作成\n",
    "Base.metadata.create_all(engine)"
   ]
  },
  {
   "cell_type": "code",
   "execution_count": 9,
   "id": "industrial-match",
   "metadata": {},
   "outputs": [
    {
     "name": "stdout",
     "output_type": "stream",
     "text": [
      "elapsed_time:14.4[sec]\n"
     ]
    }
   ],
   "source": [
    "start = time.time()\n",
    "\n",
    "Session = sessionmaker(bind=engine)\n",
    "session = Session()\n",
    "\n",
    "for i in range(len(df)):\n",
    "    \n",
    "    p = Person(\n",
    "        name = df.iloc[i:i+1][\"name\"].values[0],\n",
    "        job = df.iloc[i:i+1][\"job\"].values[0],\n",
    "        address = df.iloc[i:i+1][\"address\"].values[0]\n",
    "    )\n",
    "    \n",
    "    session.add(p)\n",
    "    session.commit()\n",
    "\n",
    "session.flush()\n",
    "\n",
    "for_add_time = time.time() - start\n",
    "print(f\"elapsed_time:{round((for_add_time), 1)}[sec]\")"
   ]
  },
  {
   "cell_type": "code",
   "execution_count": 10,
   "id": "dynamic-archives",
   "metadata": {},
   "outputs": [],
   "source": [
    "# テーブルの削除\n",
    "Base.metadata.drop_all(engine)"
   ]
  },
  {
   "cell_type": "markdown",
   "id": "employed-marathon",
   "metadata": {},
   "source": [
    "## to_sql"
   ]
  },
  {
   "cell_type": "code",
   "execution_count": 11,
   "id": "designing-iraqi",
   "metadata": {},
   "outputs": [],
   "source": [
    "# テーブルの作成\n",
    "Base.metadata.create_all(engine)"
   ]
  },
  {
   "cell_type": "code",
   "execution_count": 12,
   "id": "rough-savings",
   "metadata": {},
   "outputs": [
    {
     "name": "stdout",
     "output_type": "stream",
     "text": [
      "elapsed_time:4.2[sec]\n"
     ]
    }
   ],
   "source": [
    "start = time.time()\n",
    "\n",
    "df.to_sql('persons', engine, if_exists='append', index=False)\n",
    "\n",
    "to_sql_time = time.time() - start\n",
    "print(f\"elapsed_time:{round((to_sql_time), 1)}[sec]\")"
   ]
  },
  {
   "cell_type": "code",
   "execution_count": 14,
   "id": "italic-waters",
   "metadata": {},
   "outputs": [
    {
     "name": "stdout",
     "output_type": "stream",
     "text": [
      "for文で1行ずつ登録:14.4秒\n",
      "to_sql で登録:4.2秒\n"
     ]
    }
   ],
   "source": [
    "print(f\"for文で1行ずつ登録:{round(for_add_time, 1)}秒\")\n",
    "print(f\"to_sql で登録:{round(to_sql_time, 1)}秒\")"
   ]
  }
 ],
 "metadata": {
  "kernelspec": {
   "display_name": "Python 3",
   "language": "python",
   "name": "python3"
  },
  "language_info": {
   "codemirror_mode": {
    "name": "ipython",
    "version": 3
   },
   "file_extension": ".py",
   "mimetype": "text/x-python",
   "name": "python",
   "nbconvert_exporter": "python",
   "pygments_lexer": "ipython3",
   "version": "3.8.8"
  }
 },
 "nbformat": 4,
 "nbformat_minor": 5
}
